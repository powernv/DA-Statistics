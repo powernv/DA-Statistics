{
  "cells": [
    {
      "cell_type": "markdown",
      "metadata": {
        "id": "view-in-github",
        "colab_type": "text"
      },
      "source": [
        "<a href=\"https://colab.research.google.com/github/powernv/DA-Statistics/blob/main/powernv/Hometasks_Sber/%22%D0%9F%D0%BE%D0%B2%D0%B5%D1%80%D0%BD%D0%BE%D0%B2%D0%B0_%D0%9F%D1%80%D0%B0%D0%BA%D1%82%D0%B8%D0%BA%D0%B0_%D0%BA_%D0%B7%D0%B0%D0%BD%D1%8F%D1%82%D0%B8%D1%8E_11_ipynb%22.ipynb\" target=\"_parent\"><img src=\"https://colab.research.google.com/assets/colab-badge.svg\" alt=\"Open In Colab\"/></a>"
      ]
    },
    {
      "cell_type": "markdown",
      "metadata": {
        "id": "pDrecLU-4QjS"
      },
      "source": [
        "# Практика"
      ]
    },
    {
      "cell_type": "markdown",
      "metadata": {
        "id": "gUvTNDlMaV-a"
      },
      "source": [
        "## Определение вероятности. События\n",
        "\n",
        "Требуется сгенерировать необходимые выборки и произвести по ним расчеты"
      ]
    },
    {
      "cell_type": "code",
      "source": [
        "import numpy as np\n",
        "import random\n",
        "import pandas as pd"
      ],
      "metadata": {
        "id": "O_4otWo9yB-U"
      },
      "execution_count": 3,
      "outputs": []
    },
    {
      "cell_type": "markdown",
      "metadata": {
        "id": "5V70InEBTgup"
      },
      "source": [
        "### Задача 1\n",
        "Брошено две монеты. Найти вероятность того, что монеты выпали разными сторонами"
      ]
    },
    {
      "cell_type": "code",
      "source": [
        "coin1 = ['heads', 'tails']\n",
        "coin2 = ['heads', 'tails']\n",
        "n = 1000000\n",
        "fl = 0\n",
        "i = 1\n",
        "while i <= n:\n",
        "  if random.choice(coin1) != random.choice(coin2):\n",
        "    fl += 1\n",
        "    i += 1\n",
        "  else: i += 1\n",
        "P = fl/n\n",
        "P"
      ],
      "metadata": {
        "colab": {
          "base_uri": "https://localhost:8080/"
        },
        "id": "y-eKpRcJ-D4F",
        "outputId": "cc9eecb2-1e2c-4cff-d86b-f496d4408c47"
      },
      "execution_count": 15,
      "outputs": [
        {
          "output_type": "execute_result",
          "data": {
            "text/plain": [
              "0.500233"
            ]
          },
          "metadata": {},
          "execution_count": 15
        }
      ]
    },
    {
      "cell_type": "markdown",
      "metadata": {
        "id": "t0XOMos2Tl0e"
      },
      "source": [
        "### Задача 2\n",
        "Брошено три монеты. Описать множество всех элементарных событий. Найти вероятности следующих событий:\n",
        "\n",
        "\n",
        "1.   A = {не выпало ни одного герба}\n",
        "2.   B = {выпало четное число гербов}\n",
        "3.   C = {на третьей монете выпал герб}\n"
      ]
    },
    {
      "cell_type": "code",
      "execution_count": 16,
      "metadata": {
        "id": "o7NjAE9uUo-L"
      },
      "outputs": [],
      "source": [
        "coin_1 = ['heads', 'tails']\n",
        "coin_2 = ['heads', 'tails']\n",
        "coin_3 = ['heads', 'tails']"
      ]
    },
    {
      "cell_type": "markdown",
      "source": [
        "Описать множество элементарных событий"
      ],
      "metadata": {
        "id": "Xpr93w9qeiwE"
      }
    },
    {
      "cell_type": "code",
      "source": [
        "def r(a):\n",
        "  return random.choice(a)\n",
        "\n",
        "n = 1000\n",
        "df = pd.DataFrame({'result': list(map(lambda k: \n",
        "                                      (r(coin_1), r(coin_2), r(coin_3)),\n",
        "                                      range(n)\n",
        "))})\n",
        "\n",
        "set(df.result)"
      ],
      "metadata": {
        "colab": {
          "base_uri": "https://localhost:8080/"
        },
        "id": "NG_ALEynuYvV",
        "outputId": "4193e4fe-7ad0-4344-fcc0-11e3c09923b2"
      },
      "execution_count": 18,
      "outputs": [
        {
          "output_type": "execute_result",
          "data": {
            "text/plain": [
              "{('heads', 'heads', 'heads'),\n",
              " ('heads', 'heads', 'tails'),\n",
              " ('heads', 'tails', 'heads'),\n",
              " ('heads', 'tails', 'tails'),\n",
              " ('tails', 'heads', 'heads'),\n",
              " ('tails', 'heads', 'tails'),\n",
              " ('tails', 'tails', 'heads'),\n",
              " ('tails', 'tails', 'tails')}"
            ]
          },
          "metadata": {},
          "execution_count": 18
        }
      ]
    },
    {
      "cell_type": "markdown",
      "source": [
        "Не прогадаю, если посчитаю так"
      ],
      "metadata": {
        "id": "nmrNuFaTuZl-"
      }
    },
    {
      "cell_type": "code",
      "source": [
        "i = 1\n",
        "l = []\n",
        "n = 1000\n",
        "while i<=n:\n",
        "  D = (r(coin_1), r(coin_2), r(coin_3))\n",
        "  l.append(D)\n",
        "  i += 1\n",
        "set(l)"
      ],
      "metadata": {
        "colab": {
          "base_uri": "https://localhost:8080/"
        },
        "id": "zZ4ujhbfZ91R",
        "outputId": "070fe49c-e21d-4dc7-b379-de46d214ec12"
      },
      "execution_count": 19,
      "outputs": [
        {
          "output_type": "execute_result",
          "data": {
            "text/plain": [
              "{('heads', 'heads', 'heads'),\n",
              " ('heads', 'heads', 'tails'),\n",
              " ('heads', 'tails', 'heads'),\n",
              " ('heads', 'tails', 'tails'),\n",
              " ('tails', 'heads', 'heads'),\n",
              " ('tails', 'heads', 'tails'),\n",
              " ('tails', 'tails', 'heads'),\n",
              " ('tails', 'tails', 'tails')}"
            ]
          },
          "metadata": {},
          "execution_count": 19
        }
      ]
    },
    {
      "cell_type": "markdown",
      "source": [
        "Найти вероятности следующих событий:\n",
        "\n",
        "A = {не выпало ни одного герба}\n",
        "\n",
        "B = {выпало четное число гербов}\n",
        "\n",
        "C = {на третьей монете выпал герб}"
      ],
      "metadata": {
        "id": "Wn1REe9gepPL"
      }
    },
    {
      "cell_type": "code",
      "source": [
        "n = 1000000\n",
        "i = 1\n",
        "r1 = []\n",
        "r2 = []\n",
        "r3 = []\n",
        "while i<=n:\n",
        "  r1.append(random.choice(coin_1))\n",
        "  r2.append(random.choice(coin_2))\n",
        "  r3.append(random.choice(coin_3))\n",
        "  i += 1\n",
        "\n",
        "res = pd.DataFrame({'coin_1': r1, 'coin_2': r2, 'coin_3': r3})"
      ],
      "metadata": {
        "id": "tKgz2fX2r5V-"
      },
      "execution_count": 20,
      "outputs": []
    },
    {
      "cell_type": "code",
      "source": [
        "i = 0\n",
        "no_heads = 0\n",
        "two_heads = 0\n",
        "while i < res.shape[0]:\n",
        "  A = res.loc[i].str.find('heads').sum()\n",
        "  if A == -3:\n",
        "    no_heads += 1\n",
        "    i += 1\n",
        "  elif A == -1:\n",
        "    two_heads += 1\n",
        "    i += 1\n",
        "  else: \n",
        "    i += 1"
      ],
      "metadata": {
        "id": "l8dJtKk2_kCu"
      },
      "execution_count": 21,
      "outputs": []
    },
    {
      "cell_type": "code",
      "source": [
        "third_heads = res[res.coin_3 == 'heads'].shape[0]"
      ],
      "metadata": {
        "id": "RuD_uqk3QlyN"
      },
      "execution_count": 22,
      "outputs": []
    },
    {
      "cell_type": "code",
      "source": [
        "P_A = no_heads / res.shape[0]\n",
        "P_B = two_heads / res.shape[0]\n",
        "P_C = third_heads / res.shape[0]\n",
        "print(f'''p(A) = {P_A}\n",
        "p(B) = {P_B}\n",
        "p(C) = {P_C}''')"
      ],
      "metadata": {
        "colab": {
          "base_uri": "https://localhost:8080/"
        },
        "id": "W9-4heHvBp0b",
        "outputId": "0ca3e0ad-84d6-459b-ea79-00110ba7f5e7"
      },
      "execution_count": 23,
      "outputs": [
        {
          "output_type": "stream",
          "name": "stdout",
          "text": [
            "p(A) = 0.124876\n",
            "p(B) = 0.374607\n",
            "p(C) = 0.499913\n"
          ]
        }
      ]
    },
    {
      "cell_type": "markdown",
      "metadata": {
        "id": "_7KyHybYtrUe"
      },
      "source": [
        "Предлагается также решить задачи: \n",
        "\n",
        "### Задача 3\n",
        "Из двух претендентов E и L на ответственную должность три члена комиссии должны отобрать одного. Каждый член комиссии должен указать либо одного достойного, либо забраковать обоих. Претендент считается выбранным, если он был признан достойным хотя бы двумя членами комиссии.\n",
        "Найти вероятность событий:\n",
        "\n",
        "A = {рекомендован L}, B = {рекомендован E}\n"
      ]
    },
    {
      "cell_type": "code",
      "source": [
        "to_choose = ['E', 'L', 'nobody']"
      ],
      "metadata": {
        "id": "enBF34J8Tha5"
      },
      "execution_count": 24,
      "outputs": []
    },
    {
      "cell_type": "code",
      "source": [
        "n = 100000\n",
        "cols = ['choice1', 'choice2', 'choice3', 'winner']\n",
        "df = pd.DataFrame(columns = cols, index = range(n))\n",
        "for a in range(n):\n",
        "  df.loc[a].choice1 = np.random.choice(to_choose, 3)[0]\n",
        "  df.loc[a].choice2 = np.random.choice(to_choose, 3)[1]\n",
        "  df.loc[a].choice3 = np.random.choice(to_choose, 3)[2]\n",
        "  if df.loc[a].str.count(to_choose[0]).sum() > df.loc[a].str.count(to_choose[1]).sum() and df.loc[a].str.count(to_choose[0]).sum() > df.loc[a].str.count(to_choose[2]).sum():\n",
        "    df.loc[a].winner = to_choose[0]\n",
        "  elif df.loc[a].str.count(to_choose[1]).sum() > df.loc[a].str.count(to_choose[0]).sum() and df.loc[a].str.count(to_choose[1]).sum() > df.loc[a].str.count(to_choose[2]).sum():\n",
        "    df.loc[a].winner = to_choose[1]\n",
        "  else: df.loc[a].winner = to_choose[2]"
      ],
      "metadata": {
        "id": "c6GOysdg-_Vn"
      },
      "execution_count": 25,
      "outputs": []
    },
    {
      "cell_type": "code",
      "execution_count": 26,
      "metadata": {
        "id": "PC0GfRDutrUf",
        "colab": {
          "base_uri": "https://localhost:8080/"
        },
        "outputId": "784a004a-dbec-4fee-8bf7-01e3bbd5dda1"
      },
      "outputs": [
        {
          "output_type": "stream",
          "name": "stdout",
          "text": [
            "P(A - рекомендован L) = 0.25816, \n",
            "P(B - рекомендован E) = 0.25963\n"
          ]
        }
      ],
      "source": [
        "A = df[df.winner == 'L'].shape[0]\n",
        "B = df[df.winner == 'E'].shape[0]\n",
        "P_A = A / df.shape[0]\n",
        "P_B = B / df.shape[0]\n",
        "print(f'''P(A - рекомендован L) = {P_A}, \n",
        "P(B - рекомендован E) = {P_B}''')"
      ]
    },
    {
      "cell_type": "code",
      "source": [
        ""
      ],
      "metadata": {
        "id": "reOn9zH9Xwzl"
      },
      "execution_count": 26,
      "outputs": []
    },
    {
      "cell_type": "markdown",
      "metadata": {
        "id": "peM38mVfYa5B"
      },
      "source": [
        "### Задача 4\n",
        "Брошено две игральных кости. Описать множество элементарных событий. Найти вероятности событий:\n",
        "\n",
        "A = {вышло две \"шестерки\"}\n",
        "\n",
        "B = {сумма выпавших очков не меньше 11}\n",
        "\n",
        "C = {не выпала ни одна \"шестерка\"}"
      ]
    },
    {
      "cell_type": "code",
      "execution_count": 27,
      "metadata": {
        "id": "zhkMCfo3trUf"
      },
      "outputs": [],
      "source": [
        "first = list(range(1, 7))\n",
        "second = list(range(1, 7))"
      ]
    },
    {
      "cell_type": "markdown",
      "source": [
        "Описать множество элементарных событий"
      ],
      "metadata": {
        "id": "886mQpC_fvQS"
      }
    },
    {
      "cell_type": "code",
      "source": [
        "n = 100000\n",
        "events = pd.DataFrame({'events' : list(map(lambda x:\n",
        "                  (random.choice(first), random.choice(second)),\n",
        "                  range(n)))})\n",
        "\n",
        "set(events.events)"
      ],
      "metadata": {
        "colab": {
          "base_uri": "https://localhost:8080/"
        },
        "id": "YgdG8GmsZt9P",
        "outputId": "63d3fbea-419c-45fc-dd98-dec719e64c95"
      },
      "execution_count": 28,
      "outputs": [
        {
          "output_type": "execute_result",
          "data": {
            "text/plain": [
              "{(1, 1),\n",
              " (1, 2),\n",
              " (1, 3),\n",
              " (1, 4),\n",
              " (1, 5),\n",
              " (1, 6),\n",
              " (2, 1),\n",
              " (2, 2),\n",
              " (2, 3),\n",
              " (2, 4),\n",
              " (2, 5),\n",
              " (2, 6),\n",
              " (3, 1),\n",
              " (3, 2),\n",
              " (3, 3),\n",
              " (3, 4),\n",
              " (3, 5),\n",
              " (3, 6),\n",
              " (4, 1),\n",
              " (4, 2),\n",
              " (4, 3),\n",
              " (4, 4),\n",
              " (4, 5),\n",
              " (4, 6),\n",
              " (5, 1),\n",
              " (5, 2),\n",
              " (5, 3),\n",
              " (5, 4),\n",
              " (5, 5),\n",
              " (5, 6),\n",
              " (6, 1),\n",
              " (6, 2),\n",
              " (6, 3),\n",
              " (6, 4),\n",
              " (6, 5),\n",
              " (6, 6)}"
            ]
          },
          "metadata": {},
          "execution_count": 28
        }
      ]
    },
    {
      "cell_type": "markdown",
      "source": [
        "Найти вероятности событий:\n",
        "\n",
        "A = {вышло две \"шестерки\"}\n",
        "\n",
        "B = {сумма выпавших очков не меньше 11}\n",
        "\n",
        "C = {не выпала ни одна \"шестерка\"}"
      ],
      "metadata": {
        "id": "snylUziQf0vn"
      }
    },
    {
      "cell_type": "code",
      "source": [
        "fl_a = 0\n",
        "for a in range (n):\n",
        "  if events.events.loc[a][0] + events.events.loc[a][1] == 12:\n",
        "    fl_a += 1\n",
        "  else: \n",
        "    continue"
      ],
      "metadata": {
        "id": "pH8UalMWdABy"
      },
      "execution_count": 29,
      "outputs": []
    },
    {
      "cell_type": "code",
      "source": [
        "fl_b = 0\n",
        "for a in range (n):\n",
        "  if events.events.loc[a][0] + events.events.loc[a][1] >= 11:\n",
        "    fl_b += 1\n",
        "  else: \n",
        "    continue"
      ],
      "metadata": {
        "id": "zI8z8_a7ieJ-"
      },
      "execution_count": 30,
      "outputs": []
    },
    {
      "cell_type": "code",
      "source": [
        "fl_c = 0\n",
        "for a in range (n):\n",
        "  if events.events.loc[a][0] != 6 and events.events.loc[a][1] != 6:\n",
        "    fl_c += 1\n",
        "  else: \n",
        "    continue"
      ],
      "metadata": {
        "id": "1axliORgi5UN"
      },
      "execution_count": 31,
      "outputs": []
    },
    {
      "cell_type": "code",
      "source": [
        "P_A = fl_a / events.shape[0]\n",
        "P_B = fl_b / events.shape[0]\n",
        "P_C = fl_c / events.shape[0]\n",
        "\n",
        "print(f'''p(A) = {P_A}\n",
        "p(B) = {P_B}\n",
        "p(C) = {P_C}''')"
      ],
      "metadata": {
        "colab": {
          "base_uri": "https://localhost:8080/"
        },
        "id": "vpxo1y1zhWFd",
        "outputId": "ba9161fc-1f81-4c27-a2f4-0474f36deb68"
      },
      "execution_count": 32,
      "outputs": [
        {
          "output_type": "stream",
          "name": "stdout",
          "text": [
            "p(A) = 0.02813\n",
            "p(B) = 0.08353\n",
            "p(C) = 0.69168\n"
          ]
        }
      ]
    },
    {
      "cell_type": "code",
      "source": [
        ""
      ],
      "metadata": {
        "id": "WWr_5anTjGKX"
      },
      "execution_count": 32,
      "outputs": []
    },
    {
      "cell_type": "markdown",
      "metadata": {
        "id": "f-Bi0p8haclB"
      },
      "source": [
        "## Вероятность суммы событий"
      ]
    },
    {
      "cell_type": "markdown",
      "metadata": {
        "id": "g7A7QlvGTnwZ"
      },
      "source": [
        "### Задача 5\n",
        "Брошены две игральные кости. Найти вероятность события D = {выпала хотя бы одна шестёрка}\n"
      ]
    },
    {
      "cell_type": "code",
      "execution_count": 33,
      "metadata": {
        "id": "vjtTJN-kUp9D"
      },
      "outputs": [],
      "source": [
        "res1 = res2 = list(range(1,7))"
      ]
    },
    {
      "cell_type": "code",
      "source": [
        "n = 100000\n",
        "RES = pd.DataFrame({'RES': list(map(lambda k:\n",
        "                          (random.choice(res1), random.choice(res2)), range(n)))})"
      ],
      "metadata": {
        "id": "RNMUSXqhpfoj"
      },
      "execution_count": 34,
      "outputs": []
    },
    {
      "cell_type": "code",
      "source": [
        "fl_d = 0\n",
        "for a in range (n):\n",
        "  if RES.RES.loc[a][0] == 6 or RES.RES.loc[a][1] == 6:\n",
        "    fl_d += 1\n",
        "  else: \n",
        "    continue"
      ],
      "metadata": {
        "id": "-e7M9itWk2nZ"
      },
      "execution_count": 35,
      "outputs": []
    },
    {
      "cell_type": "code",
      "source": [
        "P_D = fl_d / RES.shape[0]\n",
        "\n",
        "\n",
        "print(f'p(D) = {P_D}')"
      ],
      "metadata": {
        "colab": {
          "base_uri": "https://localhost:8080/"
        },
        "id": "zWN48sd1lRZ-",
        "outputId": "7c05dfea-7b98-47ee-d4e6-ff5c20fc661d"
      },
      "execution_count": 36,
      "outputs": [
        {
          "output_type": "stream",
          "name": "stdout",
          "text": [
            "p(D) = 0.30475\n"
          ]
        }
      ]
    },
    {
      "cell_type": "markdown",
      "metadata": {
        "id": "R1bYSzQQbC6I"
      },
      "source": [
        "Предлагается также решить задачи: \n",
        "\n",
        "### Задача 6\n",
        "В телефонном номере три последние цифры стерлись. Считая, что все возможные значения стершихся цифр равновероятны, найти вероятность событий:\n",
        "\n",
        "A = {Стерлись различные цифры},\n",
        "\n",
        "B = {Стерлись одинаковые цифры},\n",
        "\n",
        "C = {Среди стершихся цифр хотя бы две совпадают},\n",
        "\n",
        "D = {Среди стершихся цифр хотя бы две различны}\n"
      ]
    },
    {
      "cell_type": "code",
      "source": [
        "frst = list(range(10))\n",
        "scnd = list(range(10))\n",
        "thrd = list(range(10))"
      ],
      "metadata": {
        "id": "qBna7vU4mKyB"
      },
      "execution_count": 37,
      "outputs": []
    },
    {
      "cell_type": "code",
      "source": [
        "n = 100000\n",
        "columns = ['frst', 'scnd', 'thrd']\n",
        "p = [0.1, 0.1, 0.1, 0.1, 0.1, 0.1, 0.1, 0.1, 0.1, 0.1]\n",
        "df = pd.DataFrame(columns = columns, index = range(n))\n",
        "for a in range(n):\n",
        "  df.loc[a].frst = np.random.choice(frst, 1, p = p)[0]\n",
        "  df.loc[a].scnd = np.random.choice(scnd, 1, p = p)[0]\n",
        "  df.loc[a].thrd = np.random.choice(thrd, 1, p = p)[0]"
      ],
      "metadata": {
        "id": "DXwL119RmKoa"
      },
      "execution_count": 38,
      "outputs": []
    },
    {
      "cell_type": "code",
      "source": [
        "A = B = C = 0\n",
        "for a in range (n):\n",
        "  if df.loc[a].frst != df.loc[a].scnd and df.loc[a].frst != df.loc[a].thrd and df.loc[a].scnd != df.loc[a].thrd:\n",
        "    A += 1\n",
        "    a += 1\n",
        "  elif df.loc[a].frst == df.loc[a].scnd and df.loc[a].frst == df.loc[a].thrd:\n",
        "    B += 1\n",
        "    a += 1\n",
        "  elif df.loc[a].frst == df.loc[a].scnd or df.loc[a].frst == df.loc[a].thrd or df.loc[a].scnd == df.loc[a].thrd:\n",
        "    C += 1\n",
        "    a += 1"
      ],
      "metadata": {
        "id": "muJU0aJZijnT"
      },
      "execution_count": 39,
      "outputs": []
    },
    {
      "cell_type": "code",
      "source": [
        "D = 0\n",
        "for a in range (n):\n",
        "  if df.loc[a].frst != df.loc[a].scnd or df.loc[a].frst != df.loc[a].thrd or df.loc[a].scnd != df.loc[a].thrd:\n",
        "    D += 1\n",
        "    a += 1\n",
        "  else:\n",
        "    a += 1"
      ],
      "metadata": {
        "id": "1Iy-8cappGAg"
      },
      "execution_count": 40,
      "outputs": []
    },
    {
      "cell_type": "code",
      "source": [
        "P_A = A / df.shape[0]\n",
        "P_B = B / df.shape[0]\n",
        "P_C = C / df.shape[0]\n",
        "P_D = D / df.shape[0]\n",
        "\n",
        "print(f'''P(A) = {P_A}, \n",
        "P(B) = {P_B},\n",
        "P(C) = {P_C},\n",
        "P(D) = {P_D}''')"
      ],
      "metadata": {
        "colab": {
          "base_uri": "https://localhost:8080/"
        },
        "id": "BClsvnw3ijks",
        "outputId": "974af5b4-257f-4e0f-8701-30ad9898287a"
      },
      "execution_count": 41,
      "outputs": [
        {
          "output_type": "stream",
          "name": "stdout",
          "text": [
            "P(A) = 0.71708, \n",
            "P(B) = 0.01006,\n",
            "P(C) = 0.27286,\n",
            "P(D) = 0.98994\n"
          ]
        }
      ]
    },
    {
      "cell_type": "markdown",
      "metadata": {
        "id": "RnugkR8BalK_"
      },
      "source": [
        "## Случайные величины"
      ]
    },
    {
      "cell_type": "markdown",
      "metadata": {
        "id": "yLoZDZ17UVsp"
      },
      "source": [
        "### Задача 7\n",
        "В лотерее имеется 10 билетов, из которых один выигрышный. Размер выигрыша 10 ден. ед.; стоимость билета 1 ден ед. Найти закон распределения случайной величины X, равной чистому выигрышу участника лотереи, который вытаскивает билет первым."
      ]
    },
    {
      "cell_type": "code",
      "source": [
        "import random\n",
        "import scipy.stats as sts\n",
        "import matplotlib.pyplot as plt"
      ],
      "metadata": {
        "id": "PsyNY49VersF"
      },
      "execution_count": 35,
      "outputs": []
    },
    {
      "cell_type": "code",
      "source": [
        "ber = sts.bernoulli(0.1)\n",
        "ber.rvs(10)"
      ],
      "metadata": {
        "colab": {
          "base_uri": "https://localhost:8080/"
        },
        "id": "Jix7gEdowLr5",
        "outputId": "51eacafd-7f3b-433b-8762-8af761f8571e"
      },
      "execution_count": 29,
      "outputs": [
        {
          "output_type": "execute_result",
          "data": {
            "text/plain": [
              "array([0, 0, 1, 0, 0, 0, 0, 0, 0, 0])"
            ]
          },
          "metadata": {},
          "execution_count": 29
        }
      ]
    },
    {
      "cell_type": "markdown",
      "metadata": {
        "id": "U-NK9liSbpvb"
      },
      "source": [
        "Предлагается также решить задачу: \n",
        "\n",
        "### Задача 8\n",
        "Брошены две игральные кости. Найти закон распределения случайной величины $X$, равной сумме выпавших очков. Найти вероятности событий ${X <= 4}$, ${X > 4}$"
      ]
    },
    {
      "cell_type": "code",
      "execution_count": null,
      "metadata": {
        "id": "4cZLrLdvtrUi"
      },
      "outputs": [],
      "source": [
        ""
      ]
    },
    {
      "cell_type": "markdown",
      "metadata": {
        "id": "shgW4D83awjK"
      },
      "source": [
        "## Условные вероятности"
      ]
    },
    {
      "cell_type": "markdown",
      "metadata": {
        "id": "Fbu1RFZwWZrk"
      },
      "source": [
        "### Задача 9\n",
        "Из колоды (36 карт) вынимают последовательно без возвращения две карты. Найти вероятность того, что первой картой была шестерка, а второй — семерка. Найти условную вероятность того же события при условии, что обе карты бубновой масти.\n"
      ]
    },
    {
      "cell_type": "code",
      "execution_count": 6,
      "metadata": {
        "id": "037o56awW9-E"
      },
      "outputs": [],
      "source": [
        "suit = ['Diamonds', 'Hearts', 'Clubs', 'Spades']\n",
        "number = ['6', '7', '8', '9', '10', 'Jack', 'Queen', 'King', 'Ace']"
      ]
    },
    {
      "cell_type": "code",
      "source": [
        "cards = list()\n",
        "for i in range(len(number)):\n",
        "  cards.append(f'{number[i]} {suit[0]}')\n",
        "  cards.append(f'{number[i]} {suit[1]}')\n",
        "  cards.append(f'{number[i]} {suit[2]}')\n",
        "  cards.append(f'{number[i]} {suit[3]}')\n",
        "len(cards)"
      ],
      "metadata": {
        "colab": {
          "base_uri": "https://localhost:8080/"
        },
        "id": "hl9662SihNRt",
        "outputId": "9f404a62-0c38-40ff-bfbf-40aeba3db20b"
      },
      "execution_count": 7,
      "outputs": [
        {
          "output_type": "execute_result",
          "data": {
            "text/plain": [
              "36"
            ]
          },
          "metadata": {},
          "execution_count": 7
        }
      ]
    },
    {
      "cell_type": "code",
      "source": [
        "n = 100000\n",
        "cols = ['first_card', 'second_card']\n",
        "A = pd.DataFrame(columns = cols, index = range(n))\n",
        "for i in range(n):\n",
        "  A.loc[i].first_card = np.random.choice(cards, 1)[0]\n",
        "  A.loc[i].second_card = np.random.choice(cards, 1)[0]\n",
        "  if A.loc[i].first_card[0] == A.loc[i].second_card[0]:\n",
        "    A.loc[i].second_card = np.random.choice(cards, 1)[0]\n",
        "  else: pass"
      ],
      "metadata": {
        "id": "tDd-Q016w_DK"
      },
      "execution_count": 8,
      "outputs": []
    },
    {
      "cell_type": "code",
      "source": [
        "prob_A = 0\n",
        "for i in range(n):\n",
        "  if A.loc[i].first_card.startswith('6') and A.loc[i].second_card.startswith('7'):\n",
        "    prob_A += 1\n",
        "    i += 1\n",
        "  else:\n",
        "    i +=1"
      ],
      "metadata": {
        "id": "0lksshaw5Fu0"
      },
      "execution_count": 10,
      "outputs": []
    },
    {
      "cell_type": "code",
      "source": [
        "prob_B = 0\n",
        "for i in range(n):\n",
        "  if A.loc[i].first_card.find('Diamonds') > -1 and A.loc[i].second_card.find('Diamonds') > -1:\n",
        "    prob_B += 1\n",
        "    i += 1\n",
        "  else: \n",
        "    i += 1"
      ],
      "metadata": {
        "id": "ou5QeW2zE1nR"
      },
      "execution_count": 11,
      "outputs": []
    },
    {
      "cell_type": "code",
      "source": [
        "AB = 0\n",
        "for i in range(n):\n",
        "  if A.loc[i].first_card == '6 Diamonds' and A.loc[i].second_card == '7 Diamonds':\n",
        "    AB += 1\n",
        "    i += 1\n",
        "  else: \n",
        "    i += 1"
      ],
      "metadata": {
        "id": "NNjcpHxIZRMm"
      },
      "execution_count": 12,
      "outputs": []
    },
    {
      "cell_type": "code",
      "source": [
        "p_A = prob_A/A.shape[0]\n",
        "p_B = prob_B/A.shape[0]\n",
        "p_AB = AB/A.shape[0]\n",
        "p_A_B = p_AB/p_B\n",
        "print(f'''p(A) = {p_A}\n",
        "p(A|B) = {p_A_B}''')"
      ],
      "metadata": {
        "colab": {
          "base_uri": "https://localhost:8080/"
        },
        "id": "c-a98fpN_vH5",
        "outputId": "84f2f69f-fe24-4105-f5bf-411cb9498278"
      },
      "execution_count": 13,
      "outputs": [
        {
          "output_type": "stream",
          "name": "stdout",
          "text": [
            "p(A) = 0.0138\n",
            "p(A|B) = 0.015059275873117589\n"
          ]
        }
      ]
    },
    {
      "cell_type": "markdown",
      "metadata": {
        "id": "hNVxtaz5c57b"
      },
      "source": [
        "Предлагается также решить задачу: \n",
        "\n",
        "### Задача 10\n",
        "Из урны, содержащей два белых и три черных шара, последовательно извлекают два шара; вынутые шары не возвращаются. Если первый шар оказался черным, то перед вторым извлечением в урну добавляют белый шар. В противном случае состав оставшихся шаров не меняют. Найти вероятности событий:\n",
        "\n",
        "$A$ = {извлечены два белых шара},\n",
        "\n",
        "$B$ = {извлечены два черных шара}\n",
        "\n",
        "Указание. Пусть событие $C_1$ = {первый шар белый}, событие $C_2$ = {второй шар белый}. Тогда $A = C_1C_2$, $B = \\overline C_1 \\overline C_2$ "
      ]
    },
    {
      "cell_type": "code",
      "source": [
        "n = 1000000\n",
        "cols = ['ball_1', 'ball_2', 'filled']\n",
        "fill = pd.DataFrame(columns = cols, index = range(n))\n",
        "\n",
        "for i in range (n):\n",
        "  filled = ['wh', 'wh', 'bl', 'bl', 'bl']\n",
        "  ball1 = np.random.choice(filled, 1)[0]\n",
        "  fill.loc[i].ball_1 = ball1\n",
        "  filled.remove(ball1)\n",
        "  if ball1 == 'bl':\n",
        "    filled.append('wh')\n",
        "  ball2 = np.random.choice(filled, 1)[0]\n",
        "  fill.loc[i].ball_2 = ball2\n",
        "  fill.loc[i].filled = filled"
      ],
      "metadata": {
        "id": "R4ZaMgAtucZQ"
      },
      "execution_count": 13,
      "outputs": []
    },
    {
      "cell_type": "code",
      "source": [
        "fill"
      ],
      "metadata": {
        "colab": {
          "base_uri": "https://localhost:8080/",
          "height": 423
        },
        "id": "mRz1SG9oucWb",
        "outputId": "a57f70ca-b63c-44dd-981b-78619dccb76c"
      },
      "execution_count": 18,
      "outputs": [
        {
          "output_type": "execute_result",
          "data": {
            "text/plain": [
              "       ball_1 ball_2                filled\n",
              "0          wh     wh      [wh, bl, bl, bl]\n",
              "1          wh     bl      [wh, bl, bl, bl]\n",
              "2          bl     wh  [wh, wh, bl, bl, wh]\n",
              "3          bl     bl  [wh, wh, bl, bl, wh]\n",
              "4          bl     wh  [wh, wh, bl, bl, wh]\n",
              "...       ...    ...                   ...\n",
              "999995     wh     wh      [wh, bl, bl, bl]\n",
              "999996     bl     wh  [wh, wh, bl, bl, wh]\n",
              "999997     bl     wh  [wh, wh, bl, bl, wh]\n",
              "999998     wh     wh      [wh, bl, bl, bl]\n",
              "999999     bl     wh  [wh, wh, bl, bl, wh]\n",
              "\n",
              "[1000000 rows x 3 columns]"
            ],
            "text/html": [
              "\n",
              "  <div id=\"df-73794751-64d6-495f-af5d-90e9831dc237\">\n",
              "    <div class=\"colab-df-container\">\n",
              "      <div>\n",
              "<style scoped>\n",
              "    .dataframe tbody tr th:only-of-type {\n",
              "        vertical-align: middle;\n",
              "    }\n",
              "\n",
              "    .dataframe tbody tr th {\n",
              "        vertical-align: top;\n",
              "    }\n",
              "\n",
              "    .dataframe thead th {\n",
              "        text-align: right;\n",
              "    }\n",
              "</style>\n",
              "<table border=\"1\" class=\"dataframe\">\n",
              "  <thead>\n",
              "    <tr style=\"text-align: right;\">\n",
              "      <th></th>\n",
              "      <th>ball_1</th>\n",
              "      <th>ball_2</th>\n",
              "      <th>filled</th>\n",
              "    </tr>\n",
              "  </thead>\n",
              "  <tbody>\n",
              "    <tr>\n",
              "      <th>0</th>\n",
              "      <td>wh</td>\n",
              "      <td>wh</td>\n",
              "      <td>[wh, bl, bl, bl]</td>\n",
              "    </tr>\n",
              "    <tr>\n",
              "      <th>1</th>\n",
              "      <td>wh</td>\n",
              "      <td>bl</td>\n",
              "      <td>[wh, bl, bl, bl]</td>\n",
              "    </tr>\n",
              "    <tr>\n",
              "      <th>2</th>\n",
              "      <td>bl</td>\n",
              "      <td>wh</td>\n",
              "      <td>[wh, wh, bl, bl, wh]</td>\n",
              "    </tr>\n",
              "    <tr>\n",
              "      <th>3</th>\n",
              "      <td>bl</td>\n",
              "      <td>bl</td>\n",
              "      <td>[wh, wh, bl, bl, wh]</td>\n",
              "    </tr>\n",
              "    <tr>\n",
              "      <th>4</th>\n",
              "      <td>bl</td>\n",
              "      <td>wh</td>\n",
              "      <td>[wh, wh, bl, bl, wh]</td>\n",
              "    </tr>\n",
              "    <tr>\n",
              "      <th>...</th>\n",
              "      <td>...</td>\n",
              "      <td>...</td>\n",
              "      <td>...</td>\n",
              "    </tr>\n",
              "    <tr>\n",
              "      <th>999995</th>\n",
              "      <td>wh</td>\n",
              "      <td>wh</td>\n",
              "      <td>[wh, bl, bl, bl]</td>\n",
              "    </tr>\n",
              "    <tr>\n",
              "      <th>999996</th>\n",
              "      <td>bl</td>\n",
              "      <td>wh</td>\n",
              "      <td>[wh, wh, bl, bl, wh]</td>\n",
              "    </tr>\n",
              "    <tr>\n",
              "      <th>999997</th>\n",
              "      <td>bl</td>\n",
              "      <td>wh</td>\n",
              "      <td>[wh, wh, bl, bl, wh]</td>\n",
              "    </tr>\n",
              "    <tr>\n",
              "      <th>999998</th>\n",
              "      <td>wh</td>\n",
              "      <td>wh</td>\n",
              "      <td>[wh, bl, bl, bl]</td>\n",
              "    </tr>\n",
              "    <tr>\n",
              "      <th>999999</th>\n",
              "      <td>bl</td>\n",
              "      <td>wh</td>\n",
              "      <td>[wh, wh, bl, bl, wh]</td>\n",
              "    </tr>\n",
              "  </tbody>\n",
              "</table>\n",
              "<p>1000000 rows × 3 columns</p>\n",
              "</div>\n",
              "      <button class=\"colab-df-convert\" onclick=\"convertToInteractive('df-73794751-64d6-495f-af5d-90e9831dc237')\"\n",
              "              title=\"Convert this dataframe to an interactive table.\"\n",
              "              style=\"display:none;\">\n",
              "        \n",
              "  <svg xmlns=\"http://www.w3.org/2000/svg\" height=\"24px\"viewBox=\"0 0 24 24\"\n",
              "       width=\"24px\">\n",
              "    <path d=\"M0 0h24v24H0V0z\" fill=\"none\"/>\n",
              "    <path d=\"M18.56 5.44l.94 2.06.94-2.06 2.06-.94-2.06-.94-.94-2.06-.94 2.06-2.06.94zm-11 1L8.5 8.5l.94-2.06 2.06-.94-2.06-.94L8.5 2.5l-.94 2.06-2.06.94zm10 10l.94 2.06.94-2.06 2.06-.94-2.06-.94-.94-2.06-.94 2.06-2.06.94z\"/><path d=\"M17.41 7.96l-1.37-1.37c-.4-.4-.92-.59-1.43-.59-.52 0-1.04.2-1.43.59L10.3 9.45l-7.72 7.72c-.78.78-.78 2.05 0 2.83L4 21.41c.39.39.9.59 1.41.59.51 0 1.02-.2 1.41-.59l7.78-7.78 2.81-2.81c.8-.78.8-2.07 0-2.86zM5.41 20L4 18.59l7.72-7.72 1.47 1.35L5.41 20z\"/>\n",
              "  </svg>\n",
              "      </button>\n",
              "      \n",
              "  <style>\n",
              "    .colab-df-container {\n",
              "      display:flex;\n",
              "      flex-wrap:wrap;\n",
              "      gap: 12px;\n",
              "    }\n",
              "\n",
              "    .colab-df-convert {\n",
              "      background-color: #E8F0FE;\n",
              "      border: none;\n",
              "      border-radius: 50%;\n",
              "      cursor: pointer;\n",
              "      display: none;\n",
              "      fill: #1967D2;\n",
              "      height: 32px;\n",
              "      padding: 0 0 0 0;\n",
              "      width: 32px;\n",
              "    }\n",
              "\n",
              "    .colab-df-convert:hover {\n",
              "      background-color: #E2EBFA;\n",
              "      box-shadow: 0px 1px 2px rgba(60, 64, 67, 0.3), 0px 1px 3px 1px rgba(60, 64, 67, 0.15);\n",
              "      fill: #174EA6;\n",
              "    }\n",
              "\n",
              "    [theme=dark] .colab-df-convert {\n",
              "      background-color: #3B4455;\n",
              "      fill: #D2E3FC;\n",
              "    }\n",
              "\n",
              "    [theme=dark] .colab-df-convert:hover {\n",
              "      background-color: #434B5C;\n",
              "      box-shadow: 0px 1px 3px 1px rgba(0, 0, 0, 0.15);\n",
              "      filter: drop-shadow(0px 1px 2px rgba(0, 0, 0, 0.3));\n",
              "      fill: #FFFFFF;\n",
              "    }\n",
              "  </style>\n",
              "\n",
              "      <script>\n",
              "        const buttonEl =\n",
              "          document.querySelector('#df-73794751-64d6-495f-af5d-90e9831dc237 button.colab-df-convert');\n",
              "        buttonEl.style.display =\n",
              "          google.colab.kernel.accessAllowed ? 'block' : 'none';\n",
              "\n",
              "        async function convertToInteractive(key) {\n",
              "          const element = document.querySelector('#df-73794751-64d6-495f-af5d-90e9831dc237');\n",
              "          const dataTable =\n",
              "            await google.colab.kernel.invokeFunction('convertToInteractive',\n",
              "                                                     [key], {});\n",
              "          if (!dataTable) return;\n",
              "\n",
              "          const docLinkHtml = 'Like what you see? Visit the ' +\n",
              "            '<a target=\"_blank\" href=https://colab.research.google.com/notebooks/data_table.ipynb>data table notebook</a>'\n",
              "            + ' to learn more about interactive tables.';\n",
              "          element.innerHTML = '';\n",
              "          dataTable['output_type'] = 'display_data';\n",
              "          await google.colab.output.renderOutput(dataTable, element);\n",
              "          const docLink = document.createElement('div');\n",
              "          docLink.innerHTML = docLinkHtml;\n",
              "          element.appendChild(docLink);\n",
              "        }\n",
              "      </script>\n",
              "    </div>\n",
              "  </div>\n",
              "  "
            ]
          },
          "metadata": {},
          "execution_count": 18
        }
      ]
    },
    {
      "cell_type": "code",
      "source": [
        "wh_ball1 = wh_ball2 = 0\n",
        "for i in range (n):\n",
        "  if fill.loc[i].ball_1 == 'wh':\n",
        "    wh_ball1 += 1\n",
        "  elif fill.loc[i].ball_2 == 'wh':\n",
        "    wh_ball2 += 1"
      ],
      "metadata": {
        "id": "Sk8RrxKUrgjZ"
      },
      "execution_count": 19,
      "outputs": []
    },
    {
      "cell_type": "code",
      "source": [
        "bl_ball1 = bl_ball2 = 0\n",
        "for i in range (n):\n",
        "  if fill.loc[i].ball_1 == 'bl':\n",
        "    bl_ball1 += 1\n",
        "  elif fill.loc[i].ball_2 == 'bl':\n",
        "    bl_ball2 += 1"
      ],
      "metadata": {
        "id": "txdvuNPCyuvh"
      },
      "execution_count": 20,
      "outputs": []
    },
    {
      "cell_type": "code",
      "source": [
        "C1 = wh_ball1/fill.shape[0]\n",
        "C2 = wh_ball2/fill.shape[0]\n",
        "A = C1 * C2\n",
        "f'P(A) = {A}'"
      ],
      "metadata": {
        "colab": {
          "base_uri": "https://localhost:8080/",
          "height": 35
        },
        "id": "I4tJUBAcKDwt",
        "outputId": "f75dce56-5cc7-4da9-d09e-3b6309274f94"
      },
      "execution_count": 21,
      "outputs": [
        {
          "output_type": "execute_result",
          "data": {
            "text/plain": [
              "'P(A) = 0.143755458946'"
            ],
            "application/vnd.google.colaboratory.intrinsic+json": {
              "type": "string"
            }
          },
          "metadata": {},
          "execution_count": 21
        }
      ]
    },
    {
      "cell_type": "code",
      "source": [
        "D1 = bl_ball1/fill.shape[0]\n",
        "D2 = bl_ball2/fill.shape[0]\n",
        "B = D1 * D2\n",
        "f'P(B) = {B}'"
      ],
      "metadata": {
        "colab": {
          "base_uri": "https://localhost:8080/",
          "height": 35
        },
        "id": "vo-F8jJz5i1Q",
        "outputId": "d8b3e030-ed55-485c-98ce-634de3c7fc88"
      },
      "execution_count": 22,
      "outputs": [
        {
          "output_type": "execute_result",
          "data": {
            "text/plain": [
              "'P(B) = 0.18002633251800002'"
            ],
            "application/vnd.google.colaboratory.intrinsic+json": {
              "type": "string"
            }
          },
          "metadata": {},
          "execution_count": 22
        }
      ]
    },
    {
      "cell_type": "code",
      "source": [
        ""
      ],
      "metadata": {
        "id": "Veae2Miq7_He"
      },
      "execution_count": null,
      "outputs": []
    }
  ],
  "metadata": {
    "colab": {
      "collapsed_sections": [
        "Fbu1RFZwWZrk"
      ],
      "name": "powernv \"Практика к занятию 11.ipynb\"",
      "provenance": [],
      "include_colab_link": true
    },
    "kernelspec": {
      "display_name": "Python 3",
      "language": "python",
      "name": "python3"
    },
    "language_info": {
      "codemirror_mode": {
        "name": "ipython",
        "version": 3
      },
      "file_extension": ".py",
      "mimetype": "text/x-python",
      "name": "python",
      "nbconvert_exporter": "python",
      "pygments_lexer": "ipython3",
      "version": "3.7.6"
    }
  },
  "nbformat": 4,
  "nbformat_minor": 0
}